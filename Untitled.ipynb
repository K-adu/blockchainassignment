{
 "cells": [
  {
   "cell_type": "markdown",
   "id": "f3ac2826",
   "metadata": {},
   "source": [
    "#### bitcoind -software program that serves as a full node for the Bitcoin network\n",
    "#### bitcoin-cli - command-line interface (CLI) program that is used to interact with a Bitcoin node\n",
    "\n",
    "download bitcoin core software from the store or official bitcoin website\n",
    "\n",
    "Go to the Bitcoin Core website at https://bitcoincore.org/en/download/.\n",
    "Scroll down to the \"Latest release\" section and select the appropriate download link for your operating system.\n",
    "Once the download is complete, open a terminal or command prompt on your computer and navigate to the directory where the downloaded file is located.\n",
    "#### tar -xvf bitcoin-version-linux-gnu.tar.gz\n",
    "Once you're in the Bitcoin Core directory, use the following command to copy the Bitcoin Core executables to the \"/usr/local/bin\" directory\n",
    "#### sudo cp bin/* /usr/local/bin/"
   ]
  },
  {
   "cell_type": "markdown",
   "id": "666d309a",
   "metadata": {},
   "source": [
    "#### -regtest: This is a command-line option that specifies the network to connect to. which is a special testing environment that allows you to create a local, private blockchain for testing purposes.\n",
    "#### -daemon: This is another command-line option that tells the Bitcoin Core daemon to run in the background as a service."
   ]
  },
  {
   "cell_type": "code",
   "execution_count": 27,
   "id": "223c7e2c",
   "metadata": {},
   "outputs": [
    {
     "name": "stdout",
     "output_type": "stream",
     "text": [
      "Bitcoin Core starting\r\n"
     ]
    }
   ],
   "source": [
    "!bitcoind -regtest -daemon"
   ]
  },
  {
   "cell_type": "markdown",
   "id": "ba51bfcf",
   "metadata": {},
   "source": [
    "### creating a new wallet named as manishbrl"
   ]
  },
  {
   "cell_type": "code",
   "execution_count": 28,
   "id": "ea93d753",
   "metadata": {},
   "outputs": [
    {
     "name": "stdout",
     "output_type": "stream",
     "text": [
      "{\r\n",
      "  \"name\": \"manishbrl\",\r\n",
      "  \"warning\": \"\"\r\n",
      "}\r\n"
     ]
    }
   ],
   "source": [
    "!bitcoin-cli --regtest createwallet manishbrl"
   ]
  },
  {
   "cell_type": "markdown",
   "id": "f58104cd",
   "metadata": {},
   "source": [
    "### Getting a newaddress of the rpcwallet\n",
    "In the context of blockchain, RPC stands for \"Remote Procedure Call.\" It is a protocol that allows applications or software to communicate with a blockchain node or server over a network."
   ]
  },
  {
   "cell_type": "code",
   "execution_count": 43,
   "id": "6a920930",
   "metadata": {},
   "outputs": [
    {
     "name": "stdout",
     "output_type": "stream",
     "text": [
      "bcrt1qkegt7face6mwaz2xyy3lpyw4h2w2psfjq0n3xe\r\n"
     ]
    }
   ],
   "source": [
    "!bitcoin-cli -regtest --rpcwallet=manishbrl getnewaddress\n"
   ]
  },
  {
   "cell_type": "markdown",
   "id": "f158f02f",
   "metadata": {},
   "source": [
    "### Creating another wallet named Pratibha"
   ]
  },
  {
   "cell_type": "code",
   "execution_count": 30,
   "id": "5f6a8236",
   "metadata": {},
   "outputs": [
    {
     "name": "stdout",
     "output_type": "stream",
     "text": [
      "{\r\n",
      "  \"name\": \"pratibha\",\r\n",
      "  \"warning\": \"\"\r\n",
      "}\r\n"
     ]
    }
   ],
   "source": [
    "!bitcoin-cli --regtest createwallet pratibha"
   ]
  },
  {
   "cell_type": "markdown",
   "id": "8206084b",
   "metadata": {},
   "source": [
    "### Getting newaddress of this new wallet"
   ]
  },
  {
   "cell_type": "code",
   "execution_count": 44,
   "id": "5c1a766b",
   "metadata": {},
   "outputs": [
    {
     "name": "stdout",
     "output_type": "stream",
     "text": [
      "bcrt1qfv6nfjnwxxfxvf9eec6cggr4qrgs76nfwe6cjn\r\n"
     ]
    }
   ],
   "source": [
    "!bitcoin-cli -regtest --rpcwallet=pratibha getnewaddress"
   ]
  },
  {
   "cell_type": "markdown",
   "id": "05c4c554",
   "metadata": {},
   "source": [
    "The command **bitcoin-cli -regtest generatetoaddress 11 bcrt1q77v8f53km8796yyrl75k8ylyks760phe8svmfs** generates 11 blocks in regtest mode with the coinbase reward going to the specified address. The address **bcrt1q77v8f53km8796yyrl75k8ylyks760phe8svmfs** is a testnet address, which means that the generated blocks and transactions will not affect the real Bitcoin network. This command can be used for testing purposes or to experiment with Bitcoin without risking real funds."
   ]
  },
  {
   "cell_type": "code",
   "execution_count": 45,
   "id": "741335e0",
   "metadata": {},
   "outputs": [
    {
     "name": "stdout",
     "output_type": "stream",
     "text": [
      "[\r\n",
      "  \"1bf44dcd8f0427104e83fa4e4aabf37e5fff42aa7a4168ff60be7b28c48191f0\",\r\n",
      "  \"0777d3ee9d61b7f7bc61eb38a24a74d221e3bcf57e3e05ce5e67544e38f1abc6\",\r\n",
      "  \"3d698834fa4779c514e2a3a2e9e11e3cb25a396350cf1f495c671f7ef8e966cc\",\r\n",
      "  \"1f9d55f79e73895685989b9f13a1897de53efd017ec7fef293d5fc74d559a214\",\r\n",
      "  \"090b594b29ec12f367e3211788fcb5bf302a23127222054a1a1902c9c3026f1c\",\r\n",
      "  \"394699b88640ae83165bdcbb777d4e22f4cc79bf34787f6ac5dde861ce692f64\",\r\n",
      "  \"561950e06395dd9c8e50967ec2a841577b1bd16278485583e15745f7f3c7d61d\",\r\n",
      "  \"05aeb6b9b65bbed64b6be05c4221fbb78e7c435d7d9c161ad005261419bc0d86\",\r\n",
      "  \"7909f89bfc5924475d6705c8a13c5b274391e5435ea79ee77670bd0fedac6828\",\r\n",
      "  \"6646eb6be26fe44b1b678dc240abb659e62dfa9585d061ce4aac0be8ddc5f890\",\r\n",
      "  \"2c58ce0be5780a899218c568ca313982ef19565bf8ed56326fe65840b474d217\"\r\n",
      "]\r\n"
     ]
    }
   ],
   "source": [
    "!bitcoin-cli -regtest generatetoaddress 11 bcrt1q77v8f53km8796yyrl75k8ylyks760phe8svmfs\n"
   ]
  },
  {
   "cell_type": "markdown",
   "id": "94801190",
   "metadata": {},
   "source": [
    "### Getting the balance of the 2 wallets"
   ]
  },
  {
   "cell_type": "code",
   "execution_count": 46,
   "id": "a515bbe7",
   "metadata": {},
   "outputs": [
    {
     "name": "stdout",
     "output_type": "stream",
     "text": [
      "449.99994580\n",
      "100.00000000\n"
     ]
    }
   ],
   "source": [
    "!bitcoin-cli --regtest --rpcwallet=manishbrl getbalance\n",
    "!bitcoin-cli --regtest --rpcwallet=pratibha getbalance\n"
   ]
  },
  {
   "cell_type": "markdown",
   "id": "9f3d44c5",
   "metadata": {},
   "source": [
    "### Sending from one wallet to another wallet with the provided key"
   ]
  },
  {
   "cell_type": "code",
   "execution_count": 47,
   "id": "94010881",
   "metadata": {},
   "outputs": [],
   "source": [
    "!sentTxid=$(bitcoin-cli --regtest --rpcwallet=manishbrl sendtoaddress bcrt1qudfap58c52gd0pundp0qxnjp0e7vx2kn37kqtw 100)\n"
   ]
  },
  {
   "cell_type": "markdown",
   "id": "a9f752fe",
   "metadata": {},
   "source": [
    "### Checking Balance After the transaction"
   ]
  },
  {
   "cell_type": "code",
   "execution_count": 48,
   "id": "5ccf6d80",
   "metadata": {},
   "outputs": [
    {
     "name": "stdout",
     "output_type": "stream",
     "text": [
      "349.99986340\n",
      "100.00000000\n"
     ]
    }
   ],
   "source": [
    "!bitcoin-cli --regtest --rpcwallet=manishbrl getbalance\n",
    "!bitcoin-cli --regtest --rpcwallet=pratibha getbalance"
   ]
  },
  {
   "cell_type": "code",
   "execution_count": null,
   "id": "166e344d",
   "metadata": {},
   "outputs": [],
   "source": []
  },
  {
   "cell_type": "code",
   "execution_count": null,
   "id": "3c592d3e",
   "metadata": {},
   "outputs": [],
   "source": []
  }
 ],
 "metadata": {
  "kernelspec": {
   "display_name": "Python 3 (ipykernel)",
   "language": "python",
   "name": "python3"
  },
  "language_info": {
   "codemirror_mode": {
    "name": "ipython",
    "version": 3
   },
   "file_extension": ".py",
   "mimetype": "text/x-python",
   "name": "python",
   "nbconvert_exporter": "python",
   "pygments_lexer": "ipython3",
   "version": "3.10.6"
  }
 },
 "nbformat": 4,
 "nbformat_minor": 5
}
